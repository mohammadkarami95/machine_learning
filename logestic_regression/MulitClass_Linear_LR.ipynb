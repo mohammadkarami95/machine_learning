{
 "cells": [
  {
   "cell_type": "markdown",
   "metadata": {},
   "source": [
    "We can implement this previous code with class, in this case, the code would be clean."
   ]
  },
  {
   "cell_type": "code",
   "execution_count": 1,
   "metadata": {},
   "outputs": [],
   "source": [
    "import matplotlib.pyplot as plt\n",
    "import numpy as np\n",
    "from sklearn import datasets\n",
    "import pandas as pd\n",
    "from sklearn.model_selection import train_test_split\n",
    "import time\n",
    "from sklearn.preprocessing import StandardScaler\n",
    "from sklearn.metrics import accuracy_score\n",
    "from collections import defaultdict\n",
    "import math"
   ]
  },
  {
   "cell_type": "code",
   "execution_count": 2,
   "metadata": {},
   "outputs": [],
   "source": [
    "def input_dataset():\n",
    "    dataset= datasets.load_iris() # Dataset normalized with Standard Deviation Scaler\n",
    "    features= dataset['feature_names']\n",
    "    final_dataset= pd.DataFrame(dataset['data'], columns=[features])\n",
    "    final_dataset= final_dataset.assign(target= dataset['target'])\n",
    "    return final_dataset"
   ]
  },
  {
   "cell_type": "code",
   "execution_count": 3,
   "metadata": {},
   "outputs": [
    {
     "data": {
      "text/html": [
       "<div>\n",
       "<style scoped>\n",
       "    .dataframe tbody tr th:only-of-type {\n",
       "        vertical-align: middle;\n",
       "    }\n",
       "\n",
       "    .dataframe tbody tr th {\n",
       "        vertical-align: top;\n",
       "    }\n",
       "\n",
       "    .dataframe thead tr th {\n",
       "        text-align: left;\n",
       "    }\n",
       "</style>\n",
       "<table border=\"1\" class=\"dataframe\">\n",
       "  <thead>\n",
       "    <tr>\n",
       "      <th></th>\n",
       "      <th>sepal length (cm)</th>\n",
       "      <th>sepal width (cm)</th>\n",
       "      <th>petal length (cm)</th>\n",
       "      <th>petal width (cm)</th>\n",
       "      <th>target</th>\n",
       "    </tr>\n",
       "  </thead>\n",
       "  <tbody>\n",
       "    <tr>\n",
       "      <th>0</th>\n",
       "      <td>5.1</td>\n",
       "      <td>3.5</td>\n",
       "      <td>1.4</td>\n",
       "      <td>0.2</td>\n",
       "      <td>0</td>\n",
       "    </tr>\n",
       "    <tr>\n",
       "      <th>1</th>\n",
       "      <td>4.9</td>\n",
       "      <td>3.0</td>\n",
       "      <td>1.4</td>\n",
       "      <td>0.2</td>\n",
       "      <td>0</td>\n",
       "    </tr>\n",
       "    <tr>\n",
       "      <th>2</th>\n",
       "      <td>4.7</td>\n",
       "      <td>3.2</td>\n",
       "      <td>1.3</td>\n",
       "      <td>0.2</td>\n",
       "      <td>0</td>\n",
       "    </tr>\n",
       "    <tr>\n",
       "      <th>3</th>\n",
       "      <td>4.6</td>\n",
       "      <td>3.1</td>\n",
       "      <td>1.5</td>\n",
       "      <td>0.2</td>\n",
       "      <td>0</td>\n",
       "    </tr>\n",
       "    <tr>\n",
       "      <th>4</th>\n",
       "      <td>5.0</td>\n",
       "      <td>3.6</td>\n",
       "      <td>1.4</td>\n",
       "      <td>0.2</td>\n",
       "      <td>0</td>\n",
       "    </tr>\n",
       "  </tbody>\n",
       "</table>\n",
       "</div>"
      ],
      "text/plain": [
       "  sepal length (cm) sepal width (cm) petal length (cm) petal width (cm) target\n",
       "0               5.1              3.5               1.4              0.2      0\n",
       "1               4.9              3.0               1.4              0.2      0\n",
       "2               4.7              3.2               1.3              0.2      0\n",
       "3               4.6              3.1               1.5              0.2      0\n",
       "4               5.0              3.6               1.4              0.2      0"
      ]
     },
     "execution_count": 3,
     "metadata": {},
     "output_type": "execute_result"
    }
   ],
   "source": [
    "final_dataset= input_dataset()\n",
    "final_dataset.head()"
   ]
  },
  {
   "cell_type": "code",
   "execution_count": 4,
   "metadata": {},
   "outputs": [],
   "source": [
    "# final_dataset= final_dataset.iloc[:,:2]"
   ]
  },
  {
   "cell_type": "code",
   "execution_count": 5,
   "metadata": {},
   "outputs": [
    {
     "data": {
      "text/plain": [
       "array([0, 1, 2])"
      ]
     },
     "execution_count": 5,
     "metadata": {},
     "output_type": "execute_result"
    }
   ],
   "source": [
    "np.unique(final_dataset[['target']])"
   ]
  },
  {
   "cell_type": "code",
   "execution_count": 6,
   "metadata": {
    "scrolled": true
   },
   "outputs": [
    {
     "name": "stdout",
     "output_type": "stream",
     "text": [
      "<class 'pandas.core.frame.DataFrame'>\n",
      "RangeIndex: 150 entries, 0 to 149\n",
      "Data columns (total 5 columns):\n",
      " #   Column                Non-Null Count  Dtype  \n",
      "---  ------                --------------  -----  \n",
      " 0   (sepal length (cm),)  150 non-null    float64\n",
      " 1   (sepal width (cm),)   150 non-null    float64\n",
      " 2   (petal length (cm),)  150 non-null    float64\n",
      " 3   (petal width (cm),)   150 non-null    float64\n",
      " 4   (target,)             150 non-null    int32  \n",
      "dtypes: float64(4), int32(1)\n",
      "memory usage: 5.3 KB\n"
     ]
    }
   ],
   "source": [
    "final_dataset.info()"
   ]
  },
  {
   "cell_type": "code",
   "execution_count": 7,
   "metadata": {},
   "outputs": [],
   "source": [
    "X_train, X_test, y_train, y_test= train_test_split(final_dataset.iloc[:, :-1]\n",
    "                                                   ,final_dataset.iloc[:, -1], test_size= 0.3)"
   ]
  },
  {
   "cell_type": "code",
   "execution_count": 8,
   "metadata": {},
   "outputs": [],
   "source": [
    "# Sigmoid function\n",
    "val= np.arange(-10, 10 , .01)\n",
    "z = 1 / ( 1+ np.exp(- val))"
   ]
  },
  {
   "cell_type": "code",
   "execution_count": 9,
   "metadata": {},
   "outputs": [
    {
     "data": {
      "image/png": "[encoded data removed]",
      "text/plain": [
       "<Figure size 432x288 with 1 Axes>"
      ]
     },
     "metadata": {
      "needs_background": "light"
     },
     "output_type": "display_data"
    }
   ],
   "source": [
    "plt.plot(val, z)\n",
    "plt.grid()\n",
    "plt.show()"
   ]
  },
  {
   "cell_type": "code",
   "execution_count": 10,
   "metadata": {},
   "outputs": [],
   "source": [
    "def scaler(X):\n",
    "    '''\n",
    "    In this function we use Standard Scaler for scaling test set and train set.\n",
    "    --------------------------\n",
    "    Parameter:\n",
    "    X: Test set or train set\n",
    "    --------------------------\n",
    "    return:\n",
    "    scaled data\n",
    "    '''\n",
    "    X_scaled= StandardScaler().fit_transform(X)\n",
    "    return X_scaled"
   ]
  },
  {
   "cell_type": "markdown",
   "metadata": {},
   "source": [
    "<strong>Linear Logistic Regression hypothesis:</strong>\n",
    "<h2>\n",
    "    <p style=\"color:red\">\n",
    "    h( <font face= \"Symbol\">q</font><sup>T</sup>x)= g (<font face= \"Symbol\">q</font><sup>T</sup>x)= <sup>1</sup>&frasl;<sub> 1 + e<sup> -<font face= \"Symbol\">q</font><sup>T</sup>x</sup></sub>\n",
    "    </p>\n",
    "</h2>"
   ]
  },
  {
   "cell_type": "code",
   "execution_count": 11,
   "metadata": {},
   "outputs": [],
   "source": [
    "class LogisticRegression:\n",
    "    def __init__(self, learning_rate= .04, max_iter= 15000):\n",
    "        '''\n",
    "        This class is LogisticRegression with full batch gradient descent algorithm and predict just Binary Class.\n",
    "        for multi class dataset we jsut use OneVSRest classifier class.\n",
    "        -----------------------\n",
    "        Parameters:\n",
    "        learning_rate(default .001): steps.please use optimized value to learning rate for faster learning and Prevent divergence.\n",
    "        max_iter(default 1500): number of times that we want run gradient descent.\n",
    "        <<Developer Name: Mohammad Karami Sheykhlan based on Stanford University course( Andrew Ng )>>\n",
    "        '''\n",
    "        self._learning_rate= learning_rate\n",
    "        self._max_iter= max_iter\n",
    "#         self._theta_value= []\n",
    "        self._cost_value= []\n",
    "        self._theta= []\n",
    "        self.predict_proba= []\n",
    "    #---------------------------------------------------------------------------------   \n",
    "    def _sigmoid(self, X):\n",
    "        '''\n",
    "        This function is h_theta_x (prediction) that we use sigmoid(regression) formula.\n",
    "        The formula is 1 / (1 + e ** -(X_train or X_test @ theta ))\n",
    "        After finding theta's, we can use this function for predict for X_test too.\n",
    "        ----------\n",
    "        Parameter:\n",
    "        X: X_train or X_test @ theta\n",
    "        -----------\n",
    "        return:\n",
    "        this function return value of sigmoid function (h_x)... \n",
    "        '''\n",
    "        pred= 1 / (1 + np.exp(-X))\n",
    "        \n",
    "        return pred\n",
    "    #---------------------------------------------------------------------------------\n",
    "    def _cost_function(self,X_train, y_train, theta):\n",
    "        '''\n",
    "        In this fucntion we calcualate cost function. We must check converge with drawing cost function.\n",
    "        If it was upwards, it means that divergence has occurred.\n",
    "        If it is down, it must remain constant for a while.\n",
    "        va age be samte paein bud, nabayad kheyli tiz bashad  dar in surat bayad meghdare alpha ro down konim.(persian :))\n",
    "        ---------------------------\n",
    "        parameters:\n",
    "        X_train, y_train, theta\n",
    "        ---------------------------\n",
    "        return:\n",
    "        value of Loss function (J_theta)... 1 * 1 matrix\n",
    "        '''\n",
    "        m= X_train.shape[0]\n",
    "        cost= (-1/m) * (y_train.T @ np.log(self._sigmoid(X_train @ theta)) + (1 - y_train.T) @ np.log(1 - self._sigmoid(X_train @ theta)))\n",
    "        \n",
    "        return cost[0][0]\n",
    "    #---------------------------------------------------------------------------------\n",
    "    def _cost_func_derivative(self, X_train, y_train, theta):\n",
    "        '''\n",
    "        Derivative of Cost Function for Logistic Regression:\n",
    "        dJ_theta(x)⁄dtheta = 1⁄m * x.T (h_theta(x) - y)\n",
    "        '''\n",
    "        m= X_train.shape[0]\n",
    "        deff= X_train.T @ (self._sigmoid(X_train @ theta) - y_train)\n",
    "\n",
    "        return deff\n",
    "    #-------------------------------------------------------------------------------------\n",
    "    def fit(self, X_train, y_train):\n",
    "        '''\n",
    "        In this function we want to find optimized theta values with Gradient descent.\n",
    "        Before everything, we add intercept(1) to X_train matrix then we set random values to theta.\n",
    "        ---------------------\n",
    "        Parameters:\n",
    "        X_train: maxtirx of features that we want to learn to computer\n",
    "        y_train: value of target \n",
    "        ---------------------   \n",
    "        '''\n",
    "        X_train= np.insert(X_train, 0, 1, axis= 1) # add new col in X_train[:, 0] value is 1\n",
    "        num_of_features= X_train.shape[1]\n",
    "        m=  X_train.shape[0]\n",
    "        theta= np.random.rand(num_of_features, 1)\n",
    "        cost_value= []\n",
    "        theta_value= []\n",
    "\n",
    "        for i in range(self._max_iter):\n",
    "            cost= self._cost_function(X_train, y_train.reshape(len(X_train), 1), theta)\n",
    "            self._cost_value.append(cost)\n",
    "            theta= theta - (self._learning_rate * (1 / m)) * self._cost_func_derivative(X_train, y_train.reshape(len(X_train), 1), theta)\n",
    "            theta_value.append(theta)\n",
    "            \n",
    "        self._theta= theta_value[-1]    \n",
    "    #--------------------------------------------------------------------------------------\n",
    "    def predict(self, X_test):\n",
    "        '''\n",
    "        This function return prediction values for X_test. \n",
    "        --------------------\n",
    "        Parameters:\n",
    "        X_test: The dataset on which we want to run the regression logistics algorithm.\n",
    "        theta: FINAL value for theta.\n",
    "        --------------------\n",
    "        return:\n",
    "        Return prediction Matrix about X_test it is 0 / 1. and returned matrix size is (m,) that m is number of X_test row.\n",
    "        '''\n",
    "        X_test= np.insert(X_test, 0, 1, axis= 1)\n",
    "        self.predict_proba= self._sigmoid(X_test @ self._theta)\n",
    "        norm_pred= np.where(self.predict_proba < .5, 0, 1) # 0 if pred < .5 else 1\n",
    "\n",
    "        return norm_pred.ravel()\n",
    "    #--------------------------------------------------------------------------------------\n",
    "    def accuracy(self, y_pred, y_test):\n",
    "        '''\n",
    "        The model accuracy formula is: number_of_corect_prediction / number_of_all_test_set_sample\n",
    "        '''\n",
    "        correct_predict_count= np.equal(y_pred, y_test).sum()\n",
    "        return correct_predict_count / len(y_test)\n",
    "    #--------------------------------------------------------------------------------------\n",
    "    def draw_cost_function(self):\n",
    "        cost= np.array(self._cost_value)\n",
    "        plt.plot(cost)\n",
    "        plt.xlabel('Num. of iter')\n",
    "        plt.ylabel('cost (J_theta)')\n",
    "        plt.title('Cost Function')\n",
    "        plt.show()      "
   ]
  },
  {
   "cell_type": "code",
   "execution_count": 12,
   "metadata": {},
   "outputs": [],
   "source": [
    "X_train_std= scaler(X_train)\n",
    "X_test_std= scaler(X_test)\n",
    "lr= LogisticRegression()"
   ]
  },
  {
   "cell_type": "code",
   "execution_count": 13,
   "metadata": {},
   "outputs": [],
   "source": [
    "class OneVSRestClassifier:\n",
    "    def __init__(self, model):\n",
    "        '''\n",
    "        In this class we implement One VS. Rest(All) classifier.       \n",
    "        -----------------\n",
    "        Parameter:\n",
    "        model: The model name that we want to use(for example: Logistic regression, SVM, MLP and etc.)\n",
    "        \n",
    "        << Developer Name: Mohammad Karami Sheykhlan based on Stanford University course( Andrew Ng ) >>\n",
    "        '''\n",
    "        self.model= model\n",
    "        self.thet= []\n",
    "        self.classes= 0\n",
    "    def fit(self, X_train, y_train):\n",
    "        '''\n",
    "        In this function, for each class we calculate optimazed theta\n",
    "        '''\n",
    "        self.classes= np.unique(y_train)\n",
    "#         print(self.classes)\n",
    "        \n",
    "        for index, i in enumerate(self.classes):\n",
    "            new_y_test= (y_train == i).astype(int) # for 'i'th element value we put 1 and anothers 0\n",
    "            self.model.fit(X_train, new_y_test) # then we find optimized value for theta for every class\n",
    "            self.thet.append(self.model._theta.ravel())\n",
    "#             self.model.draw_cost_function()\n",
    "            self.model._cost_value= []\n",
    "        self.thet= np.array(self.thet).T\n",
    "        print('Theta values for every class is:\\n', self.thet)\n",
    "    def predict(self, X_test):\n",
    "        X_test= np.insert(X_test, 0, 1, axis= 1)\n",
    "        self.predict_proba= self.model._sigmoid(X_test @ self.thet)\n",
    "        y_pred= np.argmax(self.predict_proba, axis= 1)\n",
    "        \n",
    "        return y_pred\n",
    "        "
   ]
  },
  {
   "cell_type": "code",
   "execution_count": 14,
   "metadata": {},
   "outputs": [],
   "source": [
    "ovr= OneVSRestClassifier(lr)"
   ]
  },
  {
   "cell_type": "code",
   "execution_count": 15,
   "metadata": {},
   "outputs": [
    {
     "name": "stdout",
     "output_type": "stream",
     "text": [
      "Theta values for every class is:\n",
      " [[-3.19673156 -0.88343559 -6.58358988]\n",
      " [-1.61701458 -0.13397421 -0.62883728]\n",
      " [ 2.47232568 -1.30768169 -0.89640889]\n",
      " [-2.98181446  2.01232     4.75554336]\n",
      " [-2.83690366 -1.72909145  5.82974284]]\n"
     ]
    }
   ],
   "source": [
    "ovr.fit(X_train_std, y_train.values)"
   ]
  },
  {
   "cell_type": "code",
   "execution_count": 16,
   "metadata": {},
   "outputs": [],
   "source": [
    "y_pred= ovr.predict(X_test_std)"
   ]
  },
  {
   "cell_type": "code",
   "execution_count": 17,
   "metadata": {},
   "outputs": [
    {
     "data": {
      "text/plain": [
       "0.9555555555555556"
      ]
     },
     "execution_count": 17,
     "metadata": {},
     "output_type": "execute_result"
    }
   ],
   "source": [
    "lr.accuracy(y_pred, y_test)"
   ]
  },
  {
   "cell_type": "markdown",
   "metadata": {},
   "source": [
    "<strong>Linear Logistic Regression Loss function:</strong>\n",
    "<h2>\n",
    "    <p style=\"color:red\">\n",
    "        J(<font face=\"Symbol\">q</font>)=<sup>1</sup>&frasl;<sub>m</sub>&sum;<sup>m</sup><sub>i=1</sub>[ -y<sup>i</sup>log<sup>h<sub><font face=\"Symbol\">q</font></sub>(x<sup>i</sup>)</sup> - ( 1 - y<sup>i</sup>)log<sup>(1 - h<font face=\"Symbol\">q</font>(x<sup>i</sup>))</sup>]\n",
    "    </p>\n",
    "</h2>"
   ]
  },
  {
   "cell_type": "markdown",
   "metadata": {},
   "source": [
    "<strong>\n",
    "    Derivative of Cost Function for Logistic Regression:\n",
    "</strong>\n",
    "<h2>\n",
    "    <p style=\"color:red\">\n",
    "        <sup>dJ<sub><font face=\"Symbol\">q</font></sub>(x)</sup>&frasl;<sub>d<font face=\"Symbol\">q</font></sub> = <sup>1</sup>&frasl;<sub>m</sub> x<sup>T</sup> (h<sub><font face=\"Symbol\">q</font></sub>(x) - y)\n",
    "    </p>\n",
    "</h2>\n"
   ]
  },
  {
   "cell_type": "code",
   "execution_count": null,
   "metadata": {},
   "outputs": [],
   "source": []
  }
 ],
 "metadata": {
  "kernelspec": {
   "display_name": "Python 3",
   "language": "python",
   "name": "python3"
  },
  "language_info": {
   "codemirror_mode": {
    "name": "ipython",
    "version": 3
   },
   "file_extension": ".py",
   "mimetype": "text/x-python",
   "name": "python",
   "nbconvert_exporter": "python",
   "pygments_lexer": "ipython3",
   "version": "3.7.0"
  }
 },
 "nbformat": 4,
 "nbformat_minor": 4
}
