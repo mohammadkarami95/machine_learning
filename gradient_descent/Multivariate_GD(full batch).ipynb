{
 "cells": [
  {
   "cell_type": "code",
   "execution_count": 1,
   "metadata": {},
   "outputs": [],
   "source": [
    "import matplotlib.pyplot as plt\n",
    "import numpy as np\n",
    "from sklearn import datasets\n",
    "import pandas as pd\n",
    "from sklearn.model_selection import train_test_split"
   ]
  },
  {
   "cell_type": "markdown",
   "metadata": {},
   "source": [
    "<strong>\n",
    "    In this section we import dataset from sklearn. <br>\n",
    "    This dataset normalized with Standard Deviation Scaler before.\n",
    "</strong>"
   ]
  },
  {
   "cell_type": "code",
   "execution_count": 65,
   "metadata": {},
   "outputs": [],
   "source": [
    "def input_dataset():\n",
    "    dataset= datasets.load_diabetes() # Dataset normalized with Standard Deviation Scaler\n",
    "    features= dataset['feature_names']\n",
    "    final_dataset= pd.DataFrame(dataset['data'], columns=[features])\n",
    "    final_dataset= final_dataset.assign(target= dataset['target'])\n",
    "    return final_dataset"
   ]
  },
  {
   "cell_type": "code",
   "execution_count": 66,
   "metadata": {},
   "outputs": [],
   "source": [
    "final_dataset= input_dataset()"
   ]
  },
  {
   "cell_type": "code",
   "execution_count": 67,
   "metadata": {},
   "outputs": [
    {
     "data": {
      "text/html": [
       "<div>\n",
       "<style scoped>\n",
       "    .dataframe tbody tr th:only-of-type {\n",
       "        vertical-align: middle;\n",
       "    }\n",
       "\n",
       "    .dataframe tbody tr th {\n",
       "        vertical-align: top;\n",
       "    }\n",
       "\n",
       "    .dataframe thead tr th {\n",
       "        text-align: left;\n",
       "    }\n",
       "</style>\n",
       "<table border=\"1\" class=\"dataframe\">\n",
       "  <thead>\n",
       "    <tr>\n",
       "      <th></th>\n",
       "      <th>age</th>\n",
       "      <th>sex</th>\n",
       "      <th>bmi</th>\n",
       "      <th>bp</th>\n",
       "      <th>s1</th>\n",
       "      <th>s2</th>\n",
       "      <th>s3</th>\n",
       "      <th>s4</th>\n",
       "      <th>s5</th>\n",
       "      <th>s6</th>\n",
       "      <th>target</th>\n",
       "    </tr>\n",
       "  </thead>\n",
       "  <tbody>\n",
       "    <tr>\n",
       "      <th>437</th>\n",
       "      <td>0.041708</td>\n",
       "      <td>0.050680</td>\n",
       "      <td>0.019662</td>\n",
       "      <td>0.059744</td>\n",
       "      <td>-0.005697</td>\n",
       "      <td>-0.002566</td>\n",
       "      <td>-0.028674</td>\n",
       "      <td>-0.002592</td>\n",
       "      <td>0.031193</td>\n",
       "      <td>0.007207</td>\n",
       "      <td>178.0</td>\n",
       "    </tr>\n",
       "    <tr>\n",
       "      <th>438</th>\n",
       "      <td>-0.005515</td>\n",
       "      <td>0.050680</td>\n",
       "      <td>-0.015906</td>\n",
       "      <td>-0.067642</td>\n",
       "      <td>0.049341</td>\n",
       "      <td>0.079165</td>\n",
       "      <td>-0.028674</td>\n",
       "      <td>0.034309</td>\n",
       "      <td>-0.018118</td>\n",
       "      <td>0.044485</td>\n",
       "      <td>104.0</td>\n",
       "    </tr>\n",
       "    <tr>\n",
       "      <th>439</th>\n",
       "      <td>0.041708</td>\n",
       "      <td>0.050680</td>\n",
       "      <td>-0.015906</td>\n",
       "      <td>0.017282</td>\n",
       "      <td>-0.037344</td>\n",
       "      <td>-0.013840</td>\n",
       "      <td>-0.024993</td>\n",
       "      <td>-0.011080</td>\n",
       "      <td>-0.046879</td>\n",
       "      <td>0.015491</td>\n",
       "      <td>132.0</td>\n",
       "    </tr>\n",
       "    <tr>\n",
       "      <th>440</th>\n",
       "      <td>-0.045472</td>\n",
       "      <td>-0.044642</td>\n",
       "      <td>0.039062</td>\n",
       "      <td>0.001215</td>\n",
       "      <td>0.016318</td>\n",
       "      <td>0.015283</td>\n",
       "      <td>-0.028674</td>\n",
       "      <td>0.026560</td>\n",
       "      <td>0.044528</td>\n",
       "      <td>-0.025930</td>\n",
       "      <td>220.0</td>\n",
       "    </tr>\n",
       "    <tr>\n",
       "      <th>441</th>\n",
       "      <td>-0.045472</td>\n",
       "      <td>-0.044642</td>\n",
       "      <td>-0.073030</td>\n",
       "      <td>-0.081414</td>\n",
       "      <td>0.083740</td>\n",
       "      <td>0.027809</td>\n",
       "      <td>0.173816</td>\n",
       "      <td>-0.039493</td>\n",
       "      <td>-0.004220</td>\n",
       "      <td>0.003064</td>\n",
       "      <td>57.0</td>\n",
       "    </tr>\n",
       "  </tbody>\n",
       "</table>\n",
       "</div>"
      ],
      "text/plain": [
       "          age       sex       bmi        bp        s1        s2        s3  \\\n",
       "437  0.041708  0.050680  0.019662  0.059744 -0.005697 -0.002566 -0.028674   \n",
       "438 -0.005515  0.050680 -0.015906 -0.067642  0.049341  0.079165 -0.028674   \n",
       "439  0.041708  0.050680 -0.015906  0.017282 -0.037344 -0.013840 -0.024993   \n",
       "440 -0.045472 -0.044642  0.039062  0.001215  0.016318  0.015283 -0.028674   \n",
       "441 -0.045472 -0.044642 -0.073030 -0.081414  0.083740  0.027809  0.173816   \n",
       "\n",
       "           s4        s5        s6 target  \n",
       "437 -0.002592  0.031193  0.007207  178.0  \n",
       "438  0.034309 -0.018118  0.044485  104.0  \n",
       "439 -0.011080 -0.046879  0.015491  132.0  \n",
       "440  0.026560  0.044528 -0.025930  220.0  \n",
       "441 -0.039493 -0.004220  0.003064   57.0  "
      ]
     },
     "execution_count": 67,
     "metadata": {},
     "output_type": "execute_result"
    }
   ],
   "source": [
    "final_dataset.tail()"
   ]
  },
  {
   "cell_type": "markdown",
   "metadata": {},
   "source": [
    "<strong>\n",
    "    In this section we split dataset to X_train and X_test\n",
    "</strong>"
   ]
  },
  {
   "cell_type": "code",
   "execution_count": 68,
   "metadata": {},
   "outputs": [],
   "source": [
    "X_train, X_test, y_train, y_test= train_test_split(final_dataset[['age', 'sex', 'bmi', 'bp', 's1', 's2', 's3', 's4', 's5', 's6']]\n",
    "                                                   ,final_dataset[['target']], test_size= 0.3)"
   ]
  },
  {
   "cell_type": "markdown",
   "metadata": {},
   "source": [
    "<strong>\n",
    "    in this implementation i used following Cost Function <br>\n",
    "    </strong>\n",
    "<h3>\n",
    "    <p style=\"color:red\">\n",
    "        h(<font face=\"Symbol\">q</font>)= 0.5 * &sum;<sub>i=1</sub><sup>m</sup>(h<sub><font face=\"Symbol\">q</font></sub>             (x<sup>i</sup>) - y<sup>i</sup>)<sup>2</sup>\n",
    "    </p>\n",
    "</h3>\n",
    "<br>\n",
    "Where 'm' is number of records and h<sub><font face=\"Symbol\">q</font></sub>(X) is :<br>\n",
    "<h3>\n",
    "    <p style=\"color:red\">\n",
    "        h<sub><font face=\"Symbol\">q</font></sub>(X)= <font face=\"Symbol\">q</font><sub>0</sub>X<sub>0</sub> + <font                 face=\"Symbol\">q</font><sub>1</sub>X<sub>1</sub> + ... + <font face=\"Symbol\">q</font><sub>n</sub>X<sub>n</sub>\n",
    "    </p>\n",
    "</h3>\n",
    "<br>\n",
    "'n' is number of features and values of  X<sub>0</sub> is vector of 1s"
   ]
  },
  {
   "cell_type": "code",
   "execution_count": 69,
   "metadata": {},
   "outputs": [],
   "source": [
    "def cost_function(X_train, y_train, theta):\n",
    "    h_x= np.dot(X_train, theta)\n",
    "    error= h_x - y_train\n",
    "    cost= (0.5 * y_train.size) * np.dot(error.T, error)\n",
    "    return cost, error, h_x"
   ]
  },
  {
   "cell_type": "markdown",
   "metadata": {},
   "source": [
    "<strong>\n",
    "    Now we implement Gradient Descent with following formula:<br>\n",
    "</strong>\n",
    "<h3>\n",
    "    <p style=\"color:red\">\n",
    "        <font face=\"Symbol\">q</font><sub>j</sub>= <font face=\"Symbol\">q</font><sub>j</sub> - (<sup>1</sup>&frasl;<sub>m</sub> . <font face=\"Symbol\">a</font>)<font face=\"Symbol\">&#229;</font><sub>i=1</sub><sup>m</sup> (h<sub><font         face=\"Symbol\">q</font></sub>(X<sup>i</sup>) - y<sup>i</sup>).X<sup>i</sup>\n",
    "    </p>\n",
    "</h3>\n",
    "<strong>\n",
    "that number of  j is number of features + 1\n",
    "    </strong>"
   ]
  },
  {
   "cell_type": "code",
   "execution_count": 70,
   "metadata": {},
   "outputs": [],
   "source": [
    "def fit(X_train, y_train, learning_rate= .001, max_iter= 5000):\n",
    "    X_train.insert(loc= 0, column='theta0',value= 1)\n",
    "    num_of_features= len(X_train.columns)\n",
    "    m= y_train.size\n",
    "    theta= np.random.rand(num_of_features, 1)\n",
    "    theta_values= []\n",
    "    cost_values= []\n",
    "    h_x_values= []\n",
    "    try:\n",
    "        for i in range(max_iter):\n",
    "            cost, error, h_x= cost_function(X_train, y_train, theta)\n",
    "            h_x_values.append(h_x)\n",
    "            cost_values.append(cost)\n",
    "            theta= theta - (learning_rate * (1/m) * np.dot(X_train.T, error))\n",
    "            theta_values.append(theta)\n",
    "    except:\n",
    "        print(\"Please check your input. may be you don't add X_train or y_train correct!!\")\n",
    "        \n",
    "    return cost_values, theta_values, h_x_values"
   ]
  },
  {
   "cell_type": "code",
   "execution_count": 71,
   "metadata": {},
   "outputs": [],
   "source": [
    "cost_values, theta_values, h_x_values= fit(X_train, y_train)"
   ]
  },
  {
   "cell_type": "code",
   "execution_count": 56,
   "metadata": {},
   "outputs": [],
   "source": [
    "d= np.array(cost_values)\n",
    "cost= d.ravel()"
   ]
  },
  {
   "cell_type": "code",
   "execution_count": 57,
   "metadata": {},
   "outputs": [
    {
     "data": {
      "image/png": "[encoded data removed]",
      "text/plain": [
       "<Figure size 432x288 with 1 Axes>"
      ]
     },
     "metadata": {
      "needs_background": "light"
     },
     "output_type": "display_data"
    }
   ],
   "source": [
    "plt.title('Cost Function J', size = 30)\n",
    "plt.xlabel('No. of iterations', size=20)\n",
    "plt.ylabel('Cost', size=20)\n",
    "plt.plot(cost)\n",
    "plt.show()"
   ]
  },
  {
   "cell_type": "code",
   "execution_count": 61,
   "metadata": {},
   "outputs": [],
   "source": [
    "def predict(X_test):\n",
    "    X_test.insert(loc= 0, column= 'Theta0',value= 1)\n",
    "    theta= theta_values[-1]\n",
    "    pred= np.dot(X_test, theta)\n",
    "    return pred"
   ]
  },
  {
   "cell_type": "code",
   "execution_count": 62,
   "metadata": {},
   "outputs": [],
   "source": [
    "prediction= predict(X_test)\n",
    "prediction= prediction.ravel()"
   ]
  },
  {
   "cell_type": "code",
   "execution_count": 63,
   "metadata": {},
   "outputs": [
    {
     "data": {
      "text/plain": [
       "array([152., 153., 152., 153., 151., 153., 153., 151., 151., 150., 152.,\n",
       "       149., 151., 154., 153., 149., 149., 150., 152., 150., 152., 149.,\n",
       "       149., 152., 150., 150., 148., 152., 152., 153., 150., 150., 151.,\n",
       "       153., 152., 147., 150., 150., 154., 152., 152., 150., 149., 149.,\n",
       "       151., 150., 153., 150., 148., 152., 153., 155., 155., 150., 152.,\n",
       "       153., 153., 150., 153., 150., 152., 147., 149., 151., 154., 155.,\n",
       "       152., 149., 150., 151., 152., 154., 153., 150., 152., 151., 150.,\n",
       "       152., 149., 150., 150., 150., 149., 149., 152., 150., 150., 148.,\n",
       "       153., 148., 151., 154., 147., 155., 153., 151., 156., 148., 152.,\n",
       "       152., 148., 154., 147., 152., 154., 149., 151., 148., 149., 153.,\n",
       "       151., 152., 151., 149., 149., 148., 152., 150., 150., 156., 153.,\n",
       "       152., 153., 150., 152., 151., 148., 148., 152., 150., 152., 155.,\n",
       "       147.])"
      ]
     },
     "execution_count": 63,
     "metadata": {},
     "output_type": "execute_result"
    }
   ],
   "source": [
    "np.round(prediction)"
   ]
  },
  {
   "cell_type": "code",
   "execution_count": 64,
   "metadata": {},
   "outputs": [
    {
     "data": {
      "text/plain": [
       "array([ 63., 195., 144., 246., 141., 164., 137.,  52., 252., 199., 206.,\n",
       "        81., 134., 180., 171., 104., 190.,  59., 202.,  90., 196., 178.,\n",
       "        69., 109.,  66.,  88.,  72.,  91., 200., 190., 121.,  53.,  51.,\n",
       "       272.,  90.,  85.,  72., 155., 249., 198., 166., 102., 185.,  92.,\n",
       "       242.,  86., 144., 102.,  59., 174., 232., 264., 248., 214., 265.,\n",
       "       196., 279.,  53., 217., 172., 230.,  55., 179., 102., 275., 341.,\n",
       "       126., 168., 160., 293., 128., 215., 296., 200.,  91., 177.,  67.,\n",
       "        99., 128., 127., 183.,  47.,  68., 104., 202.,  25.,  88.,  78.,\n",
       "       268.,  77., 185., 308.,  48., 252., 220., 104., 310.,  83., 245.,\n",
       "       219.,  77., 152., 152., 150., 163.,  48.,  95., 116.,  72., 236.,\n",
       "       200., 288.,  58., 113.,  40.,  65., 124.,  95., 151., 243., 168.,\n",
       "       220.,  81., 103., 151., 124., 150.,  87., 262., 182., 116., 233.,\n",
       "        60.])"
      ]
     },
     "execution_count": 64,
     "metadata": {},
     "output_type": "execute_result"
    }
   ],
   "source": [
    "y_test.values.ravel()"
   ]
  },
  {
   "cell_type": "code",
   "execution_count": null,
   "metadata": {},
   "outputs": [],
   "source": []
  }
 ],
 "metadata": {
  "kernelspec": {
   "display_name": "Python 3",
   "language": "python",
   "name": "python3"
  },
  "language_info": {
   "codemirror_mode": {
    "name": "ipython",
    "version": 3
   },
   "file_extension": ".py",
   "mimetype": "text/x-python",
   "name": "python",
   "nbconvert_exporter": "python",
   "pygments_lexer": "ipython3",
   "version": "3.7.0"
  }
 },
 "nbformat": 4,
 "nbformat_minor": 4
}
